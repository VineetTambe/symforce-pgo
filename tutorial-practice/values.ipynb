{
 "cells": [
  {
   "cell_type": "code",
   "execution_count": 1,
   "metadata": {},
   "outputs": [],
   "source": [
    "import symforce \n",
    "\n",
    "# dont know how these two lines impact \n",
    "symforce.set_symbolic_api(\"sympy\")\n",
    "symforce.set_log_level(\"warning\")\n",
    "\n",
    "import symforce.symbolic as sf\n",
    "from symforce.values import Values\n",
    "from symforce.notebook_util import display, display_code, display_code_file"
   ]
  },
  {
   "cell_type": "code",
   "execution_count": 2,
   "metadata": {},
   "outputs": [
    {
     "data": {
      "text/plain": [
       "Values(\n",
       "  x: x,\n",
       "  y: <Rot2 <C real=c_re, imag=c_im>>,\n",
       ")"
      ]
     },
     "metadata": {},
     "output_type": "display_data"
    }
   ],
   "source": [
    "inputs = Values(\n",
    "    x=sf.Symbol(\"x\"),\n",
    "    y=sf.Rot2.symbolic(\"c\"),\n",
    ")\n",
    "display(inputs)"
   ]
  },
  {
   "cell_type": "code",
   "execution_count": 4,
   "metadata": {},
   "outputs": [
    {
     "data": {
      "text/plain": [
       "Values(\n",
       "  x: x,\n",
       "  y: <Rot2 <C real=c_re, imag=c_im>>,\n",
       "  foo: foo,\n",
       "  hel: hel,\n",
       ")"
      ]
     },
     "metadata": {},
     "output_type": "display_data"
    }
   ],
   "source": [
    "inputs.add(sf.Symbol(\"hel\"))\n",
    "display(inputs)"
   ]
  },
  {
   "cell_type": "code",
   "execution_count": 5,
   "metadata": {},
   "outputs": [
    {
     "data": {
      "text/plain": [
       "Values(\n",
       "  x: x,\n",
       "  y: <Rot2 <C real=c_re, imag=c_im>>,\n",
       "  foo: foo,\n",
       "  hel: hel,\n",
       "  states:   Values(\n",
       "    p: x**2 + sin(y)/x**2,\n",
       "  ),\n",
       ")"
      ]
     },
     "metadata": {},
     "output_type": "display_data"
    }
   ],
   "source": [
    "x, y = sf.symbols(\"x y\")\n",
    "expr = x ** 2 + sf.sin(y) / x ** 2\n",
    "inputs[\"states\"] = Values(p=expr)\n",
    "display(inputs)"
   ]
  },
  {
   "cell_type": "code",
   "execution_count": 6,
   "metadata": {},
   "outputs": [
    {
     "data": {
      "image/png": "[encoded data removed]",
      "text/latex": [
       "$\\displaystyle \\left[ x, \\  c_{re}, \\  c_{im}, \\  foo, \\  hel, \\  x^{2} + \\frac{\\sin{\\left(y \\right)}}{x^{2}}\\right]$"
      ],
      "text/plain": [
       "⎡                        2   sin(y)⎤\n",
       "⎢x, cᵣₑ, cᵢₘ, foo, hel, x  + ──────⎥\n",
       "⎢                               2  ⎥\n",
       "⎣                              x   ⎦"
      ]
     },
     "metadata": {},
     "output_type": "display_data"
    }
   ],
   "source": [
    "display(inputs.to_storage())\n"
   ]
  },
  {
   "cell_type": "code",
   "execution_count": 7,
   "metadata": {},
   "outputs": [
    {
     "data": {
      "text/plain": [
       "[('x', x),\n",
       " ('y', <Rot2 <C real=c_re, imag=c_im>>),\n",
       " ('foo', foo),\n",
       " ('hel', hel),\n",
       " ('states.p', x**2 + sin(y)/x**2)]"
      ]
     },
     "metadata": {},
     "output_type": "display_data"
    }
   ],
   "source": [
    "display(inputs.items_recursive())"
   ]
  },
  {
   "cell_type": "code",
   "execution_count": 8,
   "metadata": {},
   "outputs": [
    {
     "data": {
      "text/plain": [
       "['x', 'y', 'foo', 'hel', 'states.p']"
      ]
     },
     "metadata": {},
     "output_type": "display_data"
    },
    {
     "data": {
      "text/plain": [
       "[x, <Rot2 <C real=c_re, imag=c_im>>, foo, hel, x**2 + sin(y)/x**2]"
      ]
     },
     "metadata": {},
     "output_type": "display_data"
    }
   ],
   "source": [
    "display(inputs.keys_recursive())\n",
    "display(inputs.values_recursive())"
   ]
  },
  {
   "cell_type": "code",
   "execution_count": 9,
   "metadata": {},
   "outputs": [
    {
     "data": {
      "text/plain": [
       "OrderedDict([('x',\n",
       "  IndexEntry(offset=0, storage_dim=1, _module='builtins', _qualname='float', shape=None, item_index=None)),\n",
       " ('y',\n",
       "  IndexEntry(offset=1, storage_dim=2, _module='symforce.geo.rot2', _qualname='Rot2', shape=None, item_index=None)),\n",
       " ('foo',\n",
       "  IndexEntry(offset=3, storage_dim=1, _module='builtins', _qualname='float', shape=None, item_index=None)),\n",
       " ('hel',\n",
       "  IndexEntry(offset=4, storage_dim=1, _module='builtins', _qualname='float', shape=None, item_index=None)),\n",
       " ('states',\n",
       "  IndexEntry(offset=5, storage_dim=1, _module='symforce.values.values', _qualname='Values', shape=None, item_index=OrderedDict([('p', IndexEntry(offset=0, storage_dim=1, _module='builtins', _qualname='float', shape=None, item_index=None))])))])"
      ]
     },
     "execution_count": 9,
     "metadata": {},
     "output_type": "execute_result"
    }
   ],
   "source": [
    "index = inputs.index()\n",
    "index"
   ]
  },
  {
   "cell_type": "code",
   "execution_count": 10,
   "metadata": {},
   "outputs": [
    {
     "data": {
      "text/plain": [
       "Values(\n",
       "  x: x,\n",
       "  y: <Rot2 <C real=c_re, imag=c_im>>,\n",
       "  foo: foo,\n",
       "  hel: hel,\n",
       "  states:   Values(\n",
       "    p: x**2 + sin(y)/x**2,\n",
       "  ),\n",
       ")"
      ]
     },
     "metadata": {},
     "output_type": "display_data"
    }
   ],
   "source": [
    "inputs2 = Values.from_storage_index(inputs.to_storage(), index)\n",
    "assert inputs == inputs2\n",
    "display(inputs)"
   ]
  },
  {
   "cell_type": "code",
   "execution_count": 11,
   "metadata": {},
   "outputs": [
    {
     "data": {
      "image/png": "[encoded data removed]",
      "text/latex": [
       "$\\displaystyle params.cost$"
      ],
      "text/plain": [
       "params.cost"
      ]
     },
     "metadata": {},
     "output_type": "display_data"
    }
   ],
   "source": [
    "with sf.scope(\"params\"):\n",
    "    s = sf.Symbol(\"cost\")\n",
    "display(s)"
   ]
  },
  {
   "cell_type": "code",
   "execution_count": 20,
   "metadata": {},
   "outputs": [
    {
     "data": {
      "text/latex": [
       "$\\displaystyle \\left[\\begin{matrix}q_{0}\\\\q_{1}\\\\q_{2}\\end{matrix}\\right]$"
      ],
      "text/plain": [
       "⎡q₀⎤\n",
       "⎢  ⎥\n",
       "⎢q₁⎥\n",
       "⎢  ⎥\n",
       "⎣q₂⎦"
      ]
     },
     "metadata": {},
     "output_type": "display_data"
    }
   ],
   "source": [
    "q = sf.V3.symbolic(\"q\")\n",
    "display(q)"
   ]
  },
  {
   "cell_type": "code",
   "execution_count": 28,
   "metadata": {},
   "outputs": [
    {
     "data": {
      "text/latex": [
       "$\\displaystyle \\left[\\begin{matrix}q_{1}\\\\q_{2}\\end{matrix}\\right]$"
      ],
      "text/plain": [
       "⎡q₁⎤\n",
       "⎢  ⎥\n",
       "⎣q₂⎦"
      ]
     },
     "metadata": {},
     "output_type": "display_data"
    }
   ],
   "source": [
    "continuous_time_dynamics = sf.V2([q[1], q[2]])\n",
    "display(continuous_time_dynamics)"
   ]
  },
  {
   "cell_type": "code",
   "execution_count": 22,
   "metadata": {},
   "outputs": [],
   "source": [
    "state = sf.V2([q[0], q[1]])"
   ]
  },
  {
   "cell_type": "code",
   "execution_count": 24,
   "metadata": {},
   "outputs": [],
   "source": [
    "u = sf.V1(q[2])"
   ]
  },
  {
   "cell_type": "code",
   "execution_count": 25,
   "metadata": {},
   "outputs": [],
   "source": [
    "A = continuous_time_dynamics.jacobian(state)\n",
    "B = continuous_time_dynamics.jacobian(u)"
   ]
  },
  {
   "cell_type": "code",
   "execution_count": 27,
   "metadata": {},
   "outputs": [
    {
     "data": {
      "text/latex": [
       "$\\displaystyle \\left[\\begin{matrix}0\\\\1\\end{matrix}\\right]$"
      ],
      "text/plain": [
       "⎡0⎤\n",
       "⎢ ⎥\n",
       "⎣1⎦"
      ]
     },
     "metadata": {},
     "output_type": "display_data"
    }
   ],
   "source": [
    "output = Values(qdot = sf.V2(A*state + B*u))"
   ]
  },
  {
   "cell_type": "code",
   "execution_count": null,
   "metadata": {},
   "outputs": [],
   "source": [
    "discrete_time_dynamics = codegen.Codegen(\n",
    "    inputs=inputs,\n",
    "    outputs=outputs,\n",
    "    config=codegen.CppConfig(),\n",
    "    name=\"double_pendulum\",\n",
    "    return_key=\"ddang\",\n",
    ")\n",
    "discrete_time_dynamics_data = discrete_time_dynamics.generate_function()\n",
    "\n",
    "# Print what we generated\n",
    "print(\"Files generated in {}:\\n\".format(discrete_time_dynamics_data.output_dir))\n",
    "for f in discrete_time_dynamics_data.generated_files:\n",
    "    print(\"  |- {}\".format(os.path.relpath(f, discrete_time_dynamics_data.output_dir)))"
   ]
  }
 ],
 "metadata": {
  "kernelspec": {
   "display_name": "env",
   "language": "python",
   "name": "python3"
  },
  "language_info": {
   "codemirror_mode": {
    "name": "ipython",
    "version": 3
   },
   "file_extension": ".py",
   "mimetype": "text/x-python",
   "name": "python",
   "nbconvert_exporter": "python",
   "pygments_lexer": "ipython3",
   "version": "3.10.6"
  },
  "orig_nbformat": 4
 },
 "nbformat": 4,
 "nbformat_minor": 2
}
