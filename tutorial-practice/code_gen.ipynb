{
 "cells": [
  {
   "cell_type": "code",
   "execution_count": 1,
   "metadata": {},
   "outputs": [],
   "source": [
    "# Setup\n",
    "import numpy as np\n",
    "import os\n",
    "import symforce\n",
    "\n",
    "symforce.set_symbolic_api(\"symengine\")\n",
    "symforce.set_log_level(\"warning\")\n"
   ]
  },
  {
   "cell_type": "code",
   "execution_count": 2,
   "metadata": {},
   "outputs": [],
   "source": [
    "symforce.set_epsilon_to_symbol()"
   ]
  },
  {
   "cell_type": "code",
   "execution_count": 3,
   "metadata": {},
   "outputs": [],
   "source": [
    "from symforce import codegen\n",
    "from symforce.codegen import codegen_util\n",
    "from symforce import ops\n",
    "import symforce.symbolic as sf\n",
    "from symforce.values import Values\n",
    "from symforce.notebook_util import display, display_code, display_code_file"
   ]
  },
  {
   "cell_type": "code",
   "execution_count": 4,
   "metadata": {},
   "outputs": [],
   "source": [
    "def az_el_from_point(\n",
    "    nav_T_cam: sf.Pose3, nav_t_point: sf.Vector3, epsilon: sf.Scalar = 0\n",
    ") -> sf.Vector2:\n",
    "    \"\"\"\n",
    "    Transform a nav point into azimuth / elevation angles in the\n",
    "    camera frame.\n",
    "\n",
    "    Args:\n",
    "        nav_T_cam (sf.Pose3): camera pose in the world\n",
    "        nav_t_point (sf.Matrix): nav point\n",
    "        epsilon (Scalar): small number to avoid singularities\n",
    "\n",
    "    Returns:\n",
    "        sf.Matrix: (azimuth, elevation)\n",
    "    \"\"\"\n",
    "    cam_t_point = nav_T_cam.inverse() * nav_t_point\n",
    "    x, y, z = cam_t_point\n",
    "    theta = sf.atan2(y, x + epsilon)\n",
    "    phi = sf.pi / 2 - sf.acos(z / (cam_t_point.norm() + epsilon))\n",
    "    return sf.V2(theta, phi)"
   ]
  },
  {
   "cell_type": "code",
   "execution_count": 5,
   "metadata": {},
   "outputs": [],
   "source": [
    "az_el_codegen = codegen.Codegen.function(\n",
    "    func=az_el_from_point,\n",
    "    config=codegen.CppConfig(),\n",
    ")\n",
    "az_el_codegen_data = az_el_codegen.generate_function()"
   ]
  },
  {
   "cell_type": "code",
   "execution_count": 6,
   "metadata": {},
   "outputs": [
    {
     "name": "stdout",
     "output_type": "stream",
     "text": [
      "Files generated in /tmp/sf_codegen_az_el_from_point_zaalj5u2:\n",
      "\n",
      "  |- cpp/symforce/sym/az_el_from_point.h\n"
     ]
    }
   ],
   "source": [
    "print(\"Files generated in {}:\\n\".format(az_el_codegen_data.output_dir))\n",
    "for f in az_el_codegen_data.generated_files:\n",
    "    print(\"  |- {}\".format(os.path.relpath(f, az_el_codegen_data.output_dir)))"
   ]
  },
  {
   "cell_type": "code",
   "execution_count": 7,
   "metadata": {},
   "outputs": [],
   "source": [
    "codegen_with_jacobians = az_el_codegen.with_jacobians(\n",
    "    # Just compute wrt the pose and point, not epsilon\n",
    "    which_args=[\"nav_T_cam\", \"nav_t_point\"],\n",
    "    # Include value, not just jacobians\n",
    "    include_results=True,\n",
    ")\n",
    "\n",
    "data = codegen_with_jacobians.generate_function()\n",
    "# from symforce.notebook_util import display_code_file\n",
    "\n",
    "# display_code_file(data.generated_files[0], \"C++\")"
   ]
  },
  {
   "cell_type": "code",
   "execution_count": 8,
   "metadata": {},
   "outputs": [
    {
     "name": "stdout",
     "output_type": "stream",
     "text": [
      "Files generated in /tmp/sf_codegen_az_el_from_point_with_jacobians01_3gjbk8tk:\n",
      "\n",
      "  |- cpp/symforce/sym/az_el_from_point_with_jacobians01.h\n"
     ]
    }
   ],
   "source": [
    "print(\"Files generated in {}:\\n\".format(data.output_dir))\n",
    "for f in data.generated_files:\n",
    "    print(\"  |- {}\".format(os.path.relpath(f, data.output_dir)))"
   ]
  },
  {
   "cell_type": "code",
   "execution_count": null,
   "metadata": {},
   "outputs": [],
   "source": []
  }
 ],
 "metadata": {
  "kernelspec": {
   "display_name": "env",
   "language": "python",
   "name": "python3"
  },
  "language_info": {
   "codemirror_mode": {
    "name": "ipython",
    "version": 3
   },
   "file_extension": ".py",
   "mimetype": "text/x-python",
   "name": "python",
   "nbconvert_exporter": "python",
   "pygments_lexer": "ipython3",
   "version": "3.10.6"
  },
  "orig_nbformat": 4
 },
 "nbformat": 4,
 "nbformat_minor": 2
}
