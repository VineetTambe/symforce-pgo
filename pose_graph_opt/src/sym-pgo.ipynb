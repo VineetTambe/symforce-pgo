{
 "cells": [
  {
   "cell_type": "code",
   "execution_count": 7,
   "metadata": {},
   "outputs": [],
   "source": [
    "import symforce\n",
    "symforce.set_epsilon_to_symbol()\n",
    "# https://github.com/symforce-org/symforce/issues/299\n",
    "# https://github.com/symforce-org/symforce/issues/300\n",
    "# https://colab.research.google.com/drive/11G80afyuW_Wxse4o4-Nikb8syi38Mjlk?usp=sharing#scrollTo=Xn3SeYzyRCTL"
   ]
  },
  {
   "cell_type": "code",
   "execution_count": 8,
   "metadata": {},
   "outputs": [],
   "source": [
    "# -----------------------------------------------------------------------------\n",
    "# Load the .g2o file\n",
    "# -----------------------------------------------------------------------------\n",
    "import numpy as np\n",
    "\n",
    "from symforce import typing as T\n",
    "from symforce.values import Values"
   ]
  },
  {
   "cell_type": "code",
   "execution_count": 9,
   "metadata": {},
   "outputs": [],
   "source": [
    "import symforce.symbolic as sf\n",
    "from symforce import logger"
   ]
  },
  {
   "cell_type": "code",
   "execution_count": 10,
   "metadata": {},
   "outputs": [],
   "source": [
    "def info2mat(info):\n",
    "    mat = np.zeros((6,6))\n",
    "    ix = 0\n",
    "    for i in range(mat.shape[0]):\n",
    "        mat[i,i:] = info[ix:ix+(6-i)]\n",
    "        mat[i:,i] = info[ix:ix+(6-i)]\n",
    "        ix += (6-i)\n",
    "    return mat"
   ]
  },
  {
   "cell_type": "code",
   "execution_count": 11,
   "metadata": {},
   "outputs": [
    {
     "data": {
      "text/plain": [
       "<Rot3 <Q xyzw=[0, 0, 0, 1]>>"
      ]
     },
     "execution_count": 11,
     "metadata": {},
     "output_type": "execute_result"
    }
   ],
   "source": [
    "# sf.Rot3([1,0,0,0])\n",
    "# display()\n",
    "sf.Rot3(sf.Quaternion(xyz= np.asarray([0,0,0]), w = 1))\n",
    "# sf.Quaternion(xyz=sf.V3(*xyz), w=w)"
   ]
  },
  {
   "cell_type": "code",
   "execution_count": 12,
   "metadata": {},
   "outputs": [],
   "source": [
    "def printData(filename_path: str):\n",
    "    with open(filename_path) as f:\n",
    "            for line in f:\n",
    "                line = line.split()\n",
    "                # print(line)\n",
    "                if line[0] == 'VERTEX_SE3:QUAT':\n",
    "                    # ids.append(sf.Scalar(int(line[1])))\n",
    "                    # nodes.append(sf.Pose3(R = sf.Rot3(\n",
    "                    #                 sf.Quaternion(xyz= np.array(line[5:-1], dtype=np.float64), w = float(line[-1]))), \n",
    "                    #                 t = sf.Vector3(np.array(line[2:5], dtype=np.float64))))\n",
    "                    # pass\n",
    "                    print(line)\n",
    "                elif line[0] == 'EDGE_SE3:QUAT':\n",
    "                    # edges.append(sf.Vector2(np.array(line[1:3], dtype=np.int64)))\n",
    "                    # poses.append(sf.Pose3(R = sf.Rot3(\n",
    "                    #                 sf.Quaternion(xyz= np.array(line[6:9], dtype=np.float64), w = float(line[9]))), \n",
    "                    #                 t = sf.Vector3(np.array(line[3:6], dtype=np.float64))))\n",
    "                    # infos.append()\n",
    "                    print(line)\n",
    "                \n",
    "# printData('/home/vrex/symForce/symforce_ws/pose_graph_opt/data/parking-garage.g2o')"
   ]
  },
  {
   "cell_type": "code",
   "execution_count": 13,
   "metadata": {},
   "outputs": [],
   "source": [
    "def build_values(filename_path: str) -> T.Tuple[Values, int]:\n",
    "    # np.random.seed(42)\n",
    "\n",
    "    # Create a problem setup and initial guess\n",
    "    values = Values()\n",
    "\n",
    "    ids = []\n",
    "    poses= []\n",
    "    nodes = []\n",
    "    edges= []\n",
    "    infos = []\n",
    "    with open(filename_path) as f:\n",
    "        for line in f:\n",
    "            line = line.split()\n",
    "            if line[0] == 'VERTEX_SE3:QUAT':\n",
    "                ids.append(sf.Scalar(int(line[1])))\n",
    "                nodes.append(sf.Pose3(R = sf.Rot3(\n",
    "                                sf.Quaternion(xyz= np.array(line[5:-1], dtype=np.float64), w = float(line[-1]))), \n",
    "                                t = sf.Vector3(np.array(line[2:5], dtype=np.float64))))\n",
    "                \n",
    "            elif line[0] == 'EDGE_SE3:QUAT':\n",
    "                edges.append(sf.Vector2(np.array(line[1:3], dtype=np.int64)))\n",
    "                poses.append(sf.Pose3(R = sf.Rot3(\n",
    "                                sf.Quaternion(xyz= np.array(line[6:9], dtype=np.float64), w = float(line[9]))), \n",
    "                                t = sf.Vector3(np.array(line[3:6], dtype=np.float64))))\n",
    "                infos.append(sf.Matrix66(info2mat(np.array(line[10:], dtype=np.float64))))\n",
    "\n",
    "    values[\"ids\"] = np.stack(ids)\n",
    "    values[\"poses\"] = np.stack(poses)\n",
    "    values[\"nodes\"] = np.stack(nodes)\n",
    "    values[\"edges\"] = np.stack(edges)\n",
    "    values[\"infos\"] = np.stack(infos)\n",
    "    \n",
    "    values[\"epsilon\"] = sf.numeric_epsilon\n",
    "\n",
    "    print(\"num ids\",values[\"ids\"])\n",
    "    print(\"num poses\",values[\"poses\"])\n",
    "    print(\"num nodes\",values[\"nodes\"])\n",
    "    print(\"num edges\",values[\"edges\"])\n",
    "    print(\"num infos\",values[\"infos\"])\n",
    "    print('infos',infos[0] )\n",
    "    print('infos',values[\"infos\"][0] )\n",
    "    return values, values[\"nodes\"].shape[0]\n"
   ]
  },
  {
   "cell_type": "code",
   "execution_count": 14,
   "metadata": {},
   "outputs": [
    {
     "data": {
      "text/plain": [
       "array([ 0.10533258,  0.48482371, -0.14796068,  1.43987001,  0.16910764,\n",
       "       -0.29568144])"
      ]
     },
     "execution_count": 14,
     "metadata": {},
     "output_type": "execute_result"
    }
   ],
   "source": [
    "np.random.normal(size=6)"
   ]
  },
  {
   "cell_type": "code",
   "execution_count": 15,
   "metadata": {},
   "outputs": [
    {
     "name": "stdout",
     "output_type": "stream",
     "text": [
      "num ids [0.000e+00 1.000e+00 2.000e+00 ... 1.658e+03 1.659e+03 1.660e+03]\n",
      "num poses [<Pose3 R=<Rot3 <Q xyzw=[-0.0107791, 0.00867285, -0.00190021, 0.999902]>>, t=(4.15448, -0.0665288, 0.000389663)>\n",
      " <Pose3 R=<Rot3 <Q xyzw=[0.00272799, -0.000777724, 0.00363979, 0.999989]>>, t=(4.15971, -0.0912353, 0.0567356)>\n",
      " <Pose3 R=<Rot3 <Q xyzw=[-0.00251893, -0.015912, 0.0148755, 0.99976]>>, t=(4.28985, -0.0247738, -0.00423717)>\n",
      " ...\n",
      " <Pose3 R=<Rot3 <Q xyzw=[0.00229015, 0.0030218, -0.0257697, 0.999661]>>, t=(4.19805, -0.240542, 0.0378044)>\n",
      " <Pose3 R=<Rot3 <Q xyzw=[0.00578879, -0.00019708, -0.00536722, 0.999969]>>, t=(4.24184, -0.061526, 0.0197744)>\n",
      " <Pose3 R=<Rot3 <Q xyzw=[0.00395105, 0.00187026, 0.0429952, 0.999066]>>, t=(4.21884, -0.184745, 0.00856371)>]\n",
      "num nodes [<Pose3 R=<Rot3 <Q xyzw=[0.0, 0.0, 0.0, 1.0]>>, t=(0.0, 0.0, 0.0)>\n",
      " <Pose3 R=<Rot3 <Q xyzw=[-0.0107791, 0.00867285, -0.00190021, 0.999902]>>, t=(4.15448, -0.0665288, 0.000389663)>\n",
      " <Pose3 R=<Rot3 <Q xyzw=[-0.00802114, 0.00792915, 0.00172397, 0.999935]>>, t=(8.31419, -0.173106, -0.0129024)>\n",
      " ...\n",
      " <Pose3 R=<Rot3 <Q xyzw=[0.00107498, 0.00690652, 0.685761, 0.727794]>>, t=(-0.888073, 12.8799, -0.360451)>\n",
      " <Pose3 R=<Rot3 <Q xyzw=[0.00538606, 0.0107384, 0.681793, 0.731447]>>, t=(-0.574597, 17.1106, -0.377747)>\n",
      " <Pose3 R=<Rot3 <Q xyzw=[0.00745758, 0.0145585, 0.712572, 0.701408]>>, t=(-0.0944743, 21.306, -0.408636)>]\n",
      "num edges [[0 1]\n",
      " [1 2]\n",
      " [2 3]\n",
      " ...\n",
      " [1657 1658]\n",
      " [1658 1659]\n",
      " [1659 1660]]\n",
      "num infos [[1.0 0.0 0.0 ... 0.0691425 -8.5017e-05 4.00118]\n",
      " [1.0 0.0 0.0 ... -0.00634076 -1.1571e-05 3.99996]\n",
      " [1.0 0.0 0.0 ... -0.126914 -0.00096047 4.00314]\n",
      " ...\n",
      " [1.0 0.0 0.0 ... 0.0248589 -0.000322747 3.9975]\n",
      " [1.0 0.0 0.0 ... -0.00120367 2.90013e-06 3.99989]\n",
      " [1.0 0.0 0.0 ... 0.0128844 0.000262348 3.99265]]\n",
      "infos [1.0, 0.0, 0.0, 0.0, 0.0, 0.0]\n",
      "[0.0, 1.0, 0.0, 0.0, 0.0, 0.0]\n",
      "[0.0, 0.0, 1.0, 0.0, 0.0, 0.0]\n",
      "[0.0, 0.0, 0.0, 4.00073, -0.000375887, 0.0691425]\n",
      "[0.0, 0.0, 0.0, -0.000375887, 3.9997, -8.5017e-05]\n",
      "[0.0, 0.0, 0.0, 0.0691425, -8.5017e-05, 4.00118]\n",
      "\n",
      "infos [1.0 0.0 0.0 0.0 0.0 0.0 0.0 1.0 0.0 0.0 0.0 0.0 0.0 0.0 1.0 0.0 0.0 0.0\n",
      " 0.0 0.0 0.0 4.00073 -0.000375887 0.0691425 0.0 0.0 0.0 -0.000375887\n",
      " 3.9997 -8.5017e-05 0.0 0.0 0.0 0.0691425 -8.5017e-05 4.00118]\n"
     ]
    }
   ],
   "source": [
    "# Testingn whether the dat loads properly or not\n",
    "_, _ = build_values('/home/vrex/symForce/symforce_ws/pose_graph_opt/data/parking-garage.g2o')\n",
    "# \n",
    "# TODO test more thoroughly "
   ]
  },
  {
   "cell_type": "code",
   "execution_count": 26,
   "metadata": {},
   "outputs": [],
   "source": [
    "def residual(\n",
    "    pose: sf.Pose3, node1: sf.Pose3, node2: sf.Pose3\n",
    ") -> sf.Pose3:\n",
    "    \"\"\"\n",
    "    Residual function\n",
    "    \"\"\"\n",
    "    error = pose.inverse() * node1.inverse() * node2 \n",
    "    \n",
    "    # return sf.Pose3(error)\n",
    "    return error \n",
    "\n",
    "# dmcgann\n",
    "\n",
    "# def odometry_residual(\n",
    "#     world_T_a: sf.Pose3,\n",
    "#     world_T_b: sf.Pose3,\n",
    "#     a_T_b: sf.Pose3,\n",
    "#     diagonal_sigmas: sf.V6,\n",
    "#     epsilon: sf.Scalar,\n",
    "# ) -> sf.V6:\n",
    "#     \"\"\"\n",
    "#     Residual on the relative pose between two timesteps of the robot.\n",
    "\n",
    "#     Args:\n",
    "#         world_T_a: First pose in the world frame\n",
    "#         world_T_b: Second pose in the world frame\n",
    "#         a_T_b: Relative pose measurement between the poses\n",
    "#         diagonal_sigmas: Diagonal standard deviation of the tangent-space error\n",
    "#         epsilon: Small number for singularity handling\n",
    "#     \"\"\"\n",
    "#     a_T_b_predicted = world_T_a.inverse() * world_T_b\n",
    "#     tangent_error = a_T_b_predicted.local_coordinates(a_T_b, epsilon=epsilon)\n",
    "#     return T.cast(sf.V6, sf.M.diag(diagonal_sigmas.to_flat_list()).inv() * sf.V6(tangent_error))"
   ]
  },
  {
   "cell_type": "code",
   "execution_count": 27,
   "metadata": {},
   "outputs": [],
   "source": [
    "from symforce.opt.factor import Factor\n",
    "\n",
    "def build_factors(num_nodes: int) -> T.Iterator[Factor]:\n",
    "    \"\"\"\n",
    "    Build factors for a problem of the given dimensionality.\n",
    "\n",
    "    TODO: this looks wrong -> figure it out \n",
    "\n",
    "\n",
    "    \"\"\"\n",
    "\n",
    "    for i in range(num_nodes - 1):\n",
    "        yield Factor(\n",
    "            residual=residual,\n",
    "            keys=[f\"poses[{i}]\", \n",
    "                  f\"nodes[edges[{i},0]]\", \n",
    "                  f\"nodes[edges[{i},1]]\", \n",
    "                #   \"epsilon\"\n",
    "                  ],\n",
    "        )\n",
    "    \n",
    "\n",
    "    # for i in range(num_poses - 1):\n",
    "    #     yield Factor(\n",
    "    #         residual=odometry_residual,\n",
    "    #         keys=[\n",
    "    #             f\"poses[{i}]\",\n",
    "    #             f\"poses[{i + 1}]\",\n",
    "    #             f\"odometry_relative_pose_measurements[{i}]\",\n",
    "    #             \"odometry_diagonal_sigmas\",\n",
    "    #             \"epsilon\",\n",
    "    #         ],\n",
    "    #     )"
   ]
  },
  {
   "cell_type": "code",
   "execution_count": 28,
   "metadata": {},
   "outputs": [
    {
     "name": "stdout",
     "output_type": "stream",
     "text": [
      "num ids [0.000e+00 1.000e+00 2.000e+00 ... 1.658e+03 1.659e+03 1.660e+03]\n",
      "num poses [<Pose3 R=<Rot3 <Q xyzw=[-0.0107791, 0.00867285, -0.00190021, 0.999902]>>, t=(4.15448, -0.0665288, 0.000389663)>\n",
      " <Pose3 R=<Rot3 <Q xyzw=[0.00272799, -0.000777724, 0.00363979, 0.999989]>>, t=(4.15971, -0.0912353, 0.0567356)>\n",
      " <Pose3 R=<Rot3 <Q xyzw=[-0.00251893, -0.015912, 0.0148755, 0.99976]>>, t=(4.28985, -0.0247738, -0.00423717)>\n",
      " ...\n",
      " <Pose3 R=<Rot3 <Q xyzw=[0.00229015, 0.0030218, -0.0257697, 0.999661]>>, t=(4.19805, -0.240542, 0.0378044)>\n",
      " <Pose3 R=<Rot3 <Q xyzw=[0.00578879, -0.00019708, -0.00536722, 0.999969]>>, t=(4.24184, -0.061526, 0.0197744)>\n",
      " <Pose3 R=<Rot3 <Q xyzw=[0.00395105, 0.00187026, 0.0429952, 0.999066]>>, t=(4.21884, -0.184745, 0.00856371)>]\n",
      "num nodes [<Pose3 R=<Rot3 <Q xyzw=[0.0, 0.0, 0.0, 1.0]>>, t=(0.0, 0.0, 0.0)>\n",
      " <Pose3 R=<Rot3 <Q xyzw=[-0.0107791, 0.00867285, -0.00190021, 0.999902]>>, t=(4.15448, -0.0665288, 0.000389663)>\n",
      " <Pose3 R=<Rot3 <Q xyzw=[-0.00802114, 0.00792915, 0.00172397, 0.999935]>>, t=(8.31419, -0.173106, -0.0129024)>\n",
      " ...\n",
      " <Pose3 R=<Rot3 <Q xyzw=[0.00107498, 0.00690652, 0.685761, 0.727794]>>, t=(-0.888073, 12.8799, -0.360451)>\n",
      " <Pose3 R=<Rot3 <Q xyzw=[0.00538606, 0.0107384, 0.681793, 0.731447]>>, t=(-0.574597, 17.1106, -0.377747)>\n",
      " <Pose3 R=<Rot3 <Q xyzw=[0.00745758, 0.0145585, 0.712572, 0.701408]>>, t=(-0.0944743, 21.306, -0.408636)>]\n",
      "num edges [[0 1]\n",
      " [1 2]\n",
      " [2 3]\n",
      " ...\n",
      " [1657 1658]\n",
      " [1658 1659]\n",
      " [1659 1660]]\n",
      "num infos [[1.0 0.0 0.0 ... 0.0691425 -8.5017e-05 4.00118]\n",
      " [1.0 0.0 0.0 ... -0.00634076 -1.1571e-05 3.99996]\n",
      " [1.0 0.0 0.0 ... -0.126914 -0.00096047 4.00314]\n",
      " ...\n",
      " [1.0 0.0 0.0 ... 0.0248589 -0.000322747 3.9975]\n",
      " [1.0 0.0 0.0 ... -0.00120367 2.90013e-06 3.99989]\n",
      " [1.0 0.0 0.0 ... 0.0128844 0.000262348 3.99265]]\n",
      "infos [1.0, 0.0, 0.0, 0.0, 0.0, 0.0]\n",
      "[0.0, 1.0, 0.0, 0.0, 0.0, 0.0]\n",
      "[0.0, 0.0, 1.0, 0.0, 0.0, 0.0]\n",
      "[0.0, 0.0, 0.0, 4.00073, -0.000375887, 0.0691425]\n",
      "[0.0, 0.0, 0.0, -0.000375887, 3.9997, -8.5017e-05]\n",
      "[0.0, 0.0, 0.0, 0.0691425, -8.5017e-05, 4.00118]\n",
      "\n",
      "infos [1.0 0.0 0.0 0.0 0.0 0.0 0.0 1.0 0.0 0.0 0.0 0.0 0.0 0.0 1.0 0.0 0.0 0.0\n",
      " 0.0 0.0 0.0 4.00073 -0.000375887 0.0691425 0.0 0.0 0.0 -0.000375887\n",
      " 3.9997 -8.5017e-05 0.0 0.0 0.0 0.0691425 -8.5017e-05 4.00118]\n"
     ]
    }
   ],
   "source": [
    "from symforce.opt.optimizer import Optimizer\n",
    "\n",
    "_values, _num_nodes = build_values('/home/vrex/symForce/symforce_ws/pose_graph_opt/data/parking-garage.g2o')"
   ]
  },
  {
   "cell_type": "code",
   "execution_count": 29,
   "metadata": {},
   "outputs": [
    {
     "name": "stdout",
     "output_type": "stream",
     "text": [
      "ids: [0.000e+00 1.000e+00 2.000e+00 ... 1.658e+03 1.659e+03 1.660e+03]\n",
      "poses: [<Pose3 R=<Rot3 <Q xyzw=[-0.0107791, 0.00867285, -0.00190021, 0.999902]>>, t=(4.15448, -0.0665288, 0.000389663)>\n",
      " <Pose3 R=<Rot3 <Q xyzw=[0.00272799, -0.000777724, 0.00363979, 0.999989]>>, t=(4.15971, -0.0912353, 0.0567356)>\n",
      " <Pose3 R=<Rot3 <Q xyzw=[-0.00251893, -0.015912, 0.0148755, 0.99976]>>, t=(4.28985, -0.0247738, -0.00423717)>\n",
      " ...\n",
      " <Pose3 R=<Rot3 <Q xyzw=[0.00229015, 0.0030218, -0.0257697, 0.999661]>>, t=(4.19805, -0.240542, 0.0378044)>\n",
      " <Pose3 R=<Rot3 <Q xyzw=[0.00578879, -0.00019708, -0.00536722, 0.999969]>>, t=(4.24184, -0.061526, 0.0197744)>\n",
      " <Pose3 R=<Rot3 <Q xyzw=[0.00395105, 0.00187026, 0.0429952, 0.999066]>>, t=(4.21884, -0.184745, 0.00856371)>]\n",
      "nodes: [<Pose3 R=<Rot3 <Q xyzw=[0.0, 0.0, 0.0, 1.0]>>, t=(0.0, 0.0, 0.0)>\n",
      " <Pose3 R=<Rot3 <Q xyzw=[-0.0107791, 0.00867285, -0.00190021, 0.999902]>>, t=(4.15448, -0.0665288, 0.000389663)>\n",
      " <Pose3 R=<Rot3 <Q xyzw=[-0.00802114, 0.00792915, 0.00172397, 0.999935]>>, t=(8.31419, -0.173106, -0.0129024)>\n",
      " ...\n",
      " <Pose3 R=<Rot3 <Q xyzw=[0.00107498, 0.00690652, 0.685761, 0.727794]>>, t=(-0.888073, 12.8799, -0.360451)>\n",
      " <Pose3 R=<Rot3 <Q xyzw=[0.00538606, 0.0107384, 0.681793, 0.731447]>>, t=(-0.574597, 17.1106, -0.377747)>\n",
      " <Pose3 R=<Rot3 <Q xyzw=[0.00745758, 0.0145585, 0.712572, 0.701408]>>, t=(-0.0944743, 21.306, -0.408636)>]\n",
      "edges: [[0 1]\n",
      " [1 2]\n",
      " [2 3]\n",
      " ...\n",
      " [1657 1658]\n",
      " [1658 1659]\n",
      " [1659 1660]]\n",
      "infos: [[1.0 0.0 0.0 ... 0.0691425 -8.5017e-05 4.00118]\n",
      " [1.0 0.0 0.0 ... -0.00634076 -1.1571e-05 3.99996]\n",
      " [1.0 0.0 0.0 ... -0.126914 -0.00096047 4.00314]\n",
      " ...\n",
      " [1.0 0.0 0.0 ... 0.0248589 -0.000322747 3.9975]\n",
      " [1.0 0.0 0.0 ... -0.00120367 2.90013e-06 3.99989]\n",
      " [1.0 0.0 0.0 ... 0.0128844 0.000262348 3.99265]]\n",
      "epsilon: 2.220446049250313e-15\n"
     ]
    }
   ],
   "source": [
    "for key, value in _values.items_recursive():\n",
    "    print(f\"{key}: {value}\")"
   ]
  },
  {
   "cell_type": "code",
   "execution_count": 30,
   "metadata": {},
   "outputs": [],
   "source": [
    "# Create factors\n",
    "factors = build_factors(num_nodes=_num_nodes)"
   ]
  },
  {
   "cell_type": "code",
   "execution_count": 42,
   "metadata": {},
   "outputs": [],
   "source": [
    "# Select the keys to optimize - the rest will be held constant\n",
    "\n",
    "# what this?????????? \n",
    "# optimized_keys = [f\"poses[{i}]\" for i in range(num_nodes)]\n",
    "_optimized_keys = [f\"nodes[{i}]\" for i in range(_num_nodes)]"
   ]
  },
  {
   "cell_type": "code",
   "execution_count": 43,
   "metadata": {},
   "outputs": [
    {
     "ename": "AssertionError",
     "evalue": "Cannot compute a linearization with respect to 0 arguments",
     "output_type": "error",
     "traceback": [
      "\u001b[0;31m---------------------------------------------------------------------------\u001b[0m",
      "\u001b[0;31mAssertionError\u001b[0m                            Traceback (most recent call last)",
      "Cell \u001b[0;32mIn[43], line 2\u001b[0m\n\u001b[1;32m      1\u001b[0m \u001b[39m# Create the optimizer\u001b[39;00m\n\u001b[0;32m----> 2\u001b[0m optimizer \u001b[39m=\u001b[39m Optimizer(\n\u001b[1;32m      3\u001b[0m     factors\u001b[39m=\u001b[39;49mfactors,\n\u001b[1;32m      4\u001b[0m     optimized_keys\u001b[39m=\u001b[39;49m_optimized_keys,\n\u001b[1;32m      5\u001b[0m     debug_stats\u001b[39m=\u001b[39;49m\u001b[39mTrue\u001b[39;49;00m,  \u001b[39m# Return problem stats for every iteration\u001b[39;49;00m\n\u001b[1;32m      6\u001b[0m     params\u001b[39m=\u001b[39;49mOptimizer\u001b[39m.\u001b[39;49mParams(verbose\u001b[39m=\u001b[39;49m\u001b[39mTrue\u001b[39;49;00m),  \u001b[39m# Customize optimizer behavior\u001b[39;49;00m\n\u001b[1;32m      7\u001b[0m )\n",
      "File \u001b[0;32m~/symForce/env/lib/python3.10/site-packages/symforce/opt/optimizer.py:167\u001b[0m, in \u001b[0;36mOptimizer.__init__\u001b[0;34m(self, factors, optimized_keys, params, debug_stats, include_jacobians)\u001b[0m\n\u001b[1;32m    164\u001b[0m     \u001b[39m# We compute the linearization in the same order as `optimized_keys`\u001b[39;00m\n\u001b[1;32m    165\u001b[0m     \u001b[39m# so that e.g. columns of the generated jacobians are in the same order\u001b[39;00m\n\u001b[1;32m    166\u001b[0m     factor_opt_keys \u001b[39m=\u001b[39m [opt_key \u001b[39mfor\u001b[39;00m opt_key \u001b[39min\u001b[39;00m optimized_keys \u001b[39mif\u001b[39;00m opt_key \u001b[39min\u001b[39;00m factor\u001b[39m.\u001b[39mkeys]\n\u001b[0;32m--> 167\u001b[0m     numeric_factors\u001b[39m.\u001b[39mappend(factor\u001b[39m.\u001b[39;49mto_numeric_factor(factor_opt_keys))\n\u001b[1;32m    168\u001b[0m \u001b[39melse\u001b[39;00m:\n\u001b[1;32m    169\u001b[0m     \u001b[39m# Add unique keys to optimized keys\u001b[39;00m\n\u001b[1;32m    170\u001b[0m     \u001b[39mself\u001b[39m\u001b[39m.\u001b[39moptimized_keys\u001b[39m.\u001b[39mextend(\n\u001b[1;32m    171\u001b[0m         opt_key\n\u001b[1;32m    172\u001b[0m         \u001b[39mfor\u001b[39;00m opt_key \u001b[39min\u001b[39;00m factor\u001b[39m.\u001b[39moptimized_keys\n\u001b[1;32m    173\u001b[0m         \u001b[39mif\u001b[39;00m opt_key \u001b[39mnot\u001b[39;00m \u001b[39min\u001b[39;00m \u001b[39mself\u001b[39m\u001b[39m.\u001b[39moptimized_keys\n\u001b[1;32m    174\u001b[0m     )\n",
      "File \u001b[0;32m~/symForce/env/lib/python3.10/site-packages/symforce/opt/factor.py:266\u001b[0m, in \u001b[0;36mFactor.to_numeric_factor\u001b[0;34m(self, optimized_keys, output_dir, namespace, sparse_linearization)\u001b[0m\n\u001b[1;32m    263\u001b[0m     namespace \u001b[39m=\u001b[39m \u001b[39mf\u001b[39m\u001b[39m\"\u001b[39m\u001b[39msym_\u001b[39m\u001b[39m{\u001b[39;00muuid\u001b[39m.\u001b[39muuid4()\u001b[39m.\u001b[39mhex\u001b[39m}\u001b[39;00m\u001b[39m\"\u001b[39m\n\u001b[1;32m    265\u001b[0m \u001b[39m# Compute the linearization of the residual and generate code\u001b[39;00m\n\u001b[0;32m--> 266\u001b[0m output_data \u001b[39m=\u001b[39m \u001b[39mself\u001b[39;49m\u001b[39m.\u001b[39;49mgenerate(optimized_keys, output_dir, namespace, sparse_linearization)\n\u001b[1;32m    268\u001b[0m \u001b[39m# Load the generated function\u001b[39;00m\n\u001b[1;32m    269\u001b[0m numeric_factor \u001b[39m=\u001b[39m NumericFactor\u001b[39m.\u001b[39mfrom_file_python(\n\u001b[1;32m    270\u001b[0m     keys\u001b[39m=\u001b[39m\u001b[39mself\u001b[39m\u001b[39m.\u001b[39mkeys,\n\u001b[1;32m    271\u001b[0m     optimized_keys\u001b[39m=\u001b[39moptimized_keys,\n\u001b[0;32m   (...)\u001b[0m\n\u001b[1;32m    274\u001b[0m     name\u001b[39m=\u001b[39moutput_data[\u001b[39m\"\u001b[39m\u001b[39mname\u001b[39m\u001b[39m\"\u001b[39m],\n\u001b[1;32m    275\u001b[0m )\n",
      "File \u001b[0;32m~/symForce/env/lib/python3.10/site-packages/symforce/opt/factor.py:182\u001b[0m, in \u001b[0;36mFactor.generate\u001b[0;34m(self, optimized_keys, output_dir, namespace, sparse_linearization)\u001b[0m\n\u001b[1;32m    179\u001b[0m     namespace \u001b[39m=\u001b[39m \u001b[39mf\u001b[39m\u001b[39m\"\u001b[39m\u001b[39msym_\u001b[39m\u001b[39m{\u001b[39;00muuid\u001b[39m.\u001b[39muuid4()\u001b[39m.\u001b[39mhex\u001b[39m}\u001b[39;00m\u001b[39m\"\u001b[39m\n\u001b[1;32m    181\u001b[0m codegen_keys \u001b[39m=\u001b[39m \u001b[39mlist\u001b[39m(\u001b[39mself\u001b[39m\u001b[39m.\u001b[39mcodegen\u001b[39m.\u001b[39minputs\u001b[39m.\u001b[39mkeys())\n\u001b[0;32m--> 182\u001b[0m codegen_with_linearization \u001b[39m=\u001b[39m \u001b[39mself\u001b[39;49m\u001b[39m.\u001b[39;49mcodegen\u001b[39m.\u001b[39;49mwith_linearization(\n\u001b[1;32m    183\u001b[0m     which_args\u001b[39m=\u001b[39;49m[codegen_keys[\u001b[39mself\u001b[39;49m\u001b[39m.\u001b[39;49mkeys\u001b[39m.\u001b[39;49mindex(key)] \u001b[39mfor\u001b[39;49;00m key \u001b[39min\u001b[39;49;00m optimized_keys],\n\u001b[1;32m    184\u001b[0m     custom_jacobian\u001b[39m=\u001b[39;49m\u001b[39mself\u001b[39;49m\u001b[39m.\u001b[39;49mcustom_jacobian_func(optimized_keys)\n\u001b[1;32m    185\u001b[0m     \u001b[39mif\u001b[39;49;00m \u001b[39mself\u001b[39;49m\u001b[39m.\u001b[39;49mcustom_jacobian_func \u001b[39mis\u001b[39;49;00m \u001b[39mnot\u001b[39;49;00m \u001b[39mNone\u001b[39;49;00m\n\u001b[1;32m    186\u001b[0m     \u001b[39melse\u001b[39;49;00m \u001b[39mNone\u001b[39;49;00m,\n\u001b[1;32m    187\u001b[0m     sparse_linearization\u001b[39m=\u001b[39;49msparse_linearization,\n\u001b[1;32m    188\u001b[0m )\n\u001b[1;32m    189\u001b[0m \u001b[39m# Ignore false positive because we define `self.jacobian` in `_initialize()`\u001b[39;00m\n\u001b[1;32m    190\u001b[0m \u001b[39m# pylint: disable=attribute-defined-outside-init\u001b[39;00m\n\u001b[1;32m    191\u001b[0m \u001b[39mself\u001b[39m\u001b[39m.\u001b[39mgenerated_jacobians[\u001b[39mtuple\u001b[39m(optimized_keys)] \u001b[39m=\u001b[39m codegen_with_linearization\u001b[39m.\u001b[39moutputs[\n\u001b[1;32m    192\u001b[0m     \u001b[39m\"\u001b[39m\u001b[39mjacobian\u001b[39m\u001b[39m\"\u001b[39m\n\u001b[1;32m    193\u001b[0m ]\n",
      "File \u001b[0;32m~/symForce/env/lib/python3.10/site-packages/symforce/codegen/codegen.py:712\u001b[0m, in \u001b[0;36mCodegen.with_linearization\u001b[0;34m(self, which_args, include_result, name, linearization_mode, sparse_linearization, custom_jacobian)\u001b[0m\n\u001b[1;32m    709\u001b[0m \u001b[39mif\u001b[39;00m which_args \u001b[39mis\u001b[39;00m \u001b[39mNone\u001b[39;00m:\n\u001b[1;32m    710\u001b[0m     which_args \u001b[39m=\u001b[39m \u001b[39mlist\u001b[39m(\u001b[39mself\u001b[39m\u001b[39m.\u001b[39minputs\u001b[39m.\u001b[39mkeys())\n\u001b[0;32m--> 712\u001b[0m \u001b[39massert\u001b[39;00m which_args, \u001b[39m\"\u001b[39m\u001b[39mCannot compute a linearization with respect to 0 arguments\u001b[39m\u001b[39m\"\u001b[39m\n\u001b[1;32m    714\u001b[0m \u001b[39m# Ensure the previous codegen has one output\u001b[39;00m\n\u001b[1;32m    715\u001b[0m \u001b[39massert\u001b[39;00m \u001b[39mlen\u001b[39m(\u001b[39mlist\u001b[39m(\u001b[39mself\u001b[39m\u001b[39m.\u001b[39moutputs\u001b[39m.\u001b[39mkeys())) \u001b[39m==\u001b[39m \u001b[39m1\u001b[39m\n",
      "\u001b[0;31mAssertionError\u001b[0m: Cannot compute a linearization with respect to 0 arguments"
     ]
    }
   ],
   "source": [
    "# Create the optimizer\n",
    "optimizer = Optimizer(\n",
    "    factors=factors,\n",
    "    optimized_keys=_optimized_keys,\n",
    "    debug_stats=True,  # Return problem stats for every iteration\n",
    "    params=Optimizer.Params(verbose=True),  # Customize optimizer behavior\n",
    ")"
   ]
  },
  {
   "cell_type": "code",
   "execution_count": null,
   "metadata": {},
   "outputs": [
    {
     "ename": "NameError",
     "evalue": "name 'optimizer' is not defined",
     "output_type": "error",
     "traceback": [
      "\u001b[0;31m---------------------------------------------------------------------------\u001b[0m",
      "\u001b[0;31mNameError\u001b[0m                                 Traceback (most recent call last)",
      "Cell \u001b[0;32mIn[25], line 2\u001b[0m\n\u001b[1;32m      1\u001b[0m \u001b[39m# Solve and return the result\u001b[39;00m\n\u001b[0;32m----> 2\u001b[0m result \u001b[39m=\u001b[39m optimizer\u001b[39m.\u001b[39moptimize(_values)\n",
      "\u001b[0;31mNameError\u001b[0m: name 'optimizer' is not defined"
     ]
    }
   ],
   "source": [
    "# Solve and return the result\n",
    "result = optimizer.optimize(_values)"
   ]
  },
  {
   "cell_type": "code",
   "execution_count": null,
   "metadata": {},
   "outputs": [],
   "source": [
    "# Print some values\n",
    "print(f\"Num iterations: {len(result.iterations) - 1}\")\n",
    "print(f\"Final error: {result.error():.6f}\")\n",
    "\n",
    "for i, pose in enumerate(result.optimized_values[\"poses\"]):\n",
    "    print(f\"Pose {i}: t = {pose.position()}, heading = {pose.rotation().to_tangent()[0]}\")\n",
    "\n",
    "# Plot the result\n",
    "# TODO(hayk): mypy gives the below error, but a relative import also doesn't work.\n",
    "# Skipping analyzing \"symforce.examples.robot_2d_localization.plotting\":\n",
    "#     found module but no type hints or library stubs\n",
    "from symforce.examples.robot_2d_localization.plotting import plot_solution\n",
    "\n",
    "plot_solution(optimizer, result)\n",
    "\n"
   ]
  },
  {
   "cell_type": "code",
   "execution_count": null,
   "metadata": {},
   "outputs": [],
   "source": []
  }
 ],
 "metadata": {
  "kernelspec": {
   "display_name": "env",
   "language": "python",
   "name": "python3"
  },
  "language_info": {
   "codemirror_mode": {
    "name": "ipython",
    "version": 3
   },
   "file_extension": ".py",
   "mimetype": "text/x-python",
   "name": "python",
   "nbconvert_exporter": "python",
   "pygments_lexer": "ipython3",
   "version": "3.10.6"
  },
  "orig_nbformat": 4,
  "vscode": {
   "interpreter": {
    "hash": "ca898de611477ef798661896fd233368987478c0dbb36f61e14d4b28400f6437"
   }
  }
 },
 "nbformat": 4,
 "nbformat_minor": 2
}
