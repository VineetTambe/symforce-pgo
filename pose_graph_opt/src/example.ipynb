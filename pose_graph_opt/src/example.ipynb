{
 "cells": [
  {
   "cell_type": "code",
   "execution_count": 1,
   "metadata": {},
   "outputs": [],
   "source": [
    "import symforce\n",
    "# symforce.set_epsilon_to_symbol()\n",
    "symforce.set_epsilon_to_number()\n",
    "\n",
    "\n",
    "# import numpy as np\n",
    "# # import plotly.express as px\n",
    "# import sympy as sm\n",
    "\n",
    "# x = sm.Symbol(\"x\")\n",
    "# # eps = sm.Symbol(\"epsilon\")\n",
    "# epsilon = sm.Symbol(\"epsilon\", positive=True)"
   ]
  },
  {
   "cell_type": "code",
   "execution_count": 2,
   "metadata": {},
   "outputs": [],
   "source": [
    "import numpy as np\n",
    "from symforce.values import Values\n",
    "import symforce.symbolic as sf\n",
    "\n",
    "# for optimisation\n",
    "from symforce.opt.factor import Factor\n",
    "\n",
    "from symforce.opt.optimizer import Optimizer"
   ]
  },
  {
   "cell_type": "code",
   "execution_count": 3,
   "metadata": {},
   "outputs": [],
   "source": [
    "\n",
    "num_poses = 3\n",
    "num_landmarks = 3\n",
    "\n",
    "\n",
    "initial_values = Values(\n",
    "    # populate this with initial poses \n",
    "    poses=[sf.Pose2.identity()] * num_poses,\n",
    "    landmarks=[sf.V2(-2, 2), sf.V2(1, -3), sf.V2(5, 2)],\n",
    "    distances=[1.7, 1.4],\n",
    "    angles=np.deg2rad([[145, 335, 55], [185, 310, 70], [215, 310, 70]]).tolist(),\n",
    "    epsilon=sf.numeric_epsilon,\n",
    ")"
   ]
  },
  {
   "cell_type": "code",
   "execution_count": 4,
   "metadata": {},
   "outputs": [],
   "source": [
    "def bearing_residual(\n",
    "    pose: sf.Pose2, landmark: sf.V2, angle: sf.Scalar, epsilon: sf.Scalar\n",
    ") -> sf.V1:\n",
    "    t_body = pose.inverse() * landmark\n",
    "    predicted_angle = sf.atan2(t_body[1], t_body[0], epsilon=epsilon)\n",
    "    return sf.V1(sf.wrap_angle(predicted_angle - angle))"
   ]
  },
  {
   "cell_type": "code",
   "execution_count": 5,
   "metadata": {},
   "outputs": [],
   "source": [
    "def odometry_residual(\n",
    "    pose_a: sf.Pose2, pose_b: sf.Pose2, dist: sf.Scalar, epsilon: sf.Scalar\n",
    ") -> sf.V1:\n",
    "    return sf.V1((pose_b.t - pose_a.t).norm(epsilon=epsilon) - dist)"
   ]
  },
  {
   "cell_type": "code",
   "execution_count": 6,
   "metadata": {},
   "outputs": [],
   "source": [
    "\n",
    "factors = []\n",
    "\n",
    "# Bearing factors\n",
    "for i in range(num_poses):\n",
    "    for j in range(num_landmarks):\n",
    "        factors.append(Factor(\n",
    "            residual=bearing_residual,\n",
    "            keys=[f\"poses[{i}]\", f\"landmarks[{j}]\", f\"angles[{i}][{j}]\", \"epsilon\"],\n",
    "        ))\n",
    "\n",
    "# Odometry factors\n",
    "for i in range(num_poses - 1):\n",
    "    factors.append(Factor(\n",
    "        residual=odometry_residual,\n",
    "        keys=[f\"poses[{i}]\", f\"poses[{i + 1}]\", f\"distances[{i}]\", \"epsilon\"],\n",
    "    ))"
   ]
  },
  {
   "cell_type": "code",
   "execution_count": 7,
   "metadata": {},
   "outputs": [],
   "source": [
    "\n",
    "optimizer = Optimizer(\n",
    "    factors=factors,\n",
    "    optimized_keys=[f\"poses[{i}]\" for i in range(num_poses)],\n",
    "    # So that we save more information about each iteration, to visualize later:\n",
    "    debug_stats=True,\n",
    "    params=Optimizer.Params(verbose=True),  # Customize optimizer behavior\n",
    ")"
   ]
  },
  {
   "cell_type": "code",
   "execution_count": 8,
   "metadata": {},
   "outputs": [
    {
     "ename": "RuntimeError",
     "evalue": "SYM_ASSERT: linearized_factor->index.tangent_dim == linearized_factor->jacobian.cols()\n    --> void sym::Factor<ScalarType>::Linearize(const sym::Values<Scalar>&, sym::Factor<ScalarType>::LinearizedDenseFactor*, const std::vector<sym::index_entry_t>*) const [with ScalarType = double; sym::Factor<ScalarType>::LinearizedDenseFactor = sym::linearized_dense_factor_t]\n    --> /project/symforce/opt/factor.cc:102\n",
     "output_type": "error",
     "traceback": [
      "\u001b[0;31m---------------------------------------------------------------------------\u001b[0m",
      "\u001b[0;31mRuntimeError\u001b[0m                              Traceback (most recent call last)",
      "Cell \u001b[0;32mIn[8], line 1\u001b[0m\n\u001b[0;32m----> 1\u001b[0m result \u001b[39m=\u001b[39m optimizer\u001b[39m.\u001b[39;49moptimize(initial_values)\n",
      "File \u001b[0;32m~/symForce/env/lib/python3.10/site-packages/symforce/opt/optimizer.py:250\u001b[0m, in \u001b[0;36mOptimizer.optimize\u001b[0;34m(self, initial_guess)\u001b[0m\n\u001b[1;32m    247\u001b[0m cc_values \u001b[39m=\u001b[39m \u001b[39mself\u001b[39m\u001b[39m.\u001b[39m_cc_values(initial_guess)\n\u001b[1;32m    249\u001b[0m \u001b[39mtry\u001b[39;00m:\n\u001b[0;32m--> 250\u001b[0m     stats \u001b[39m=\u001b[39m \u001b[39mself\u001b[39;49m\u001b[39m.\u001b[39;49m_cc_optimizer\u001b[39m.\u001b[39;49moptimize(cc_values)\n\u001b[1;32m    251\u001b[0m \u001b[39mexcept\u001b[39;00m \u001b[39mZeroDivisionError\u001b[39;00m \u001b[39mas\u001b[39;00m ex:\n\u001b[1;32m    252\u001b[0m     \u001b[39mraise\u001b[39;00m \u001b[39mZeroDivisionError\u001b[39;00m(\u001b[39m\"\u001b[39m\u001b[39mERROR: Division by zero - check your use of epsilon!\u001b[39m\u001b[39m\"\u001b[39m) \u001b[39mfrom\u001b[39;00m \u001b[39mex\u001b[39;00m\n",
      "\u001b[0;31mRuntimeError\u001b[0m: SYM_ASSERT: linearized_factor->index.tangent_dim == linearized_factor->jacobian.cols()\n    --> void sym::Factor<ScalarType>::Linearize(const sym::Values<Scalar>&, sym::Factor<ScalarType>::LinearizedDenseFactor*, const std::vector<sym::index_entry_t>*) const [with ScalarType = double; sym::Factor<ScalarType>::LinearizedDenseFactor = sym::linearized_dense_factor_t]\n    --> /project/symforce/opt/factor.cc:102\n"
     ]
    }
   ],
   "source": [
    "result = optimizer.optimize(initial_values)"
   ]
  },
  {
   "cell_type": "code",
   "execution_count": null,
   "metadata": {},
   "outputs": [],
   "source": [
    "from symforce.examples.robot_2d_localization.plotting import plot_solution\n",
    "plot_solution(optimizer, result)"
   ]
  },
  {
   "cell_type": "code",
   "execution_count": null,
   "metadata": {},
   "outputs": [],
   "source": []
  }
 ],
 "metadata": {
  "kernelspec": {
   "display_name": "env",
   "language": "python",
   "name": "python3"
  },
  "language_info": {
   "codemirror_mode": {
    "name": "ipython",
    "version": 3
   },
   "file_extension": ".py",
   "mimetype": "text/x-python",
   "name": "python",
   "nbconvert_exporter": "python",
   "pygments_lexer": "ipython3",
   "version": "3.10.6"
  },
  "orig_nbformat": 4
 },
 "nbformat": 4,
 "nbformat_minor": 2
}
