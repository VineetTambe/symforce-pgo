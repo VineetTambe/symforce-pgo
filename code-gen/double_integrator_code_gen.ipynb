{
 "cells": [
  {
   "cell_type": "code",
   "execution_count": 1,
   "metadata": {},
   "outputs": [],
   "source": [
    "# Setup\n",
    "import numpy as np\n",
    "import os\n",
    "import symforce\n",
    "from symforce import typing as T\n",
    "\n",
    "symforce.set_symbolic_api(\"symengine\")\n",
    "symforce.set_log_level(\"warning\")"
   ]
  },
  {
   "cell_type": "code",
   "execution_count": 2,
   "metadata": {},
   "outputs": [],
   "source": [
    "symforce.set_epsilon_to_symbol()"
   ]
  },
  {
   "cell_type": "code",
   "execution_count": 3,
   "metadata": {},
   "outputs": [],
   "source": [
    "from symforce import codegen\n",
    "from symforce.codegen import codegen_util\n",
    "from symforce import ops\n",
    "import symforce.symbolic as sf\n",
    "from symforce.values import Values\n",
    "from symforce.notebook_util import display, display_code, display_code_file"
   ]
  },
  {
   "cell_type": "code",
   "execution_count": 4,
   "metadata": {},
   "outputs": [
    {
     "data": {
      "text/latex": [
       "$\\displaystyle \\left[\\begin{matrix}q_{0}\\\\q_{1}\\\\q_{2}\\end{matrix}\\right]$"
      ],
      "text/plain": [
       "⎡q₀⎤\n",
       "⎢  ⎥\n",
       "⎢q₁⎥\n",
       "⎢  ⎥\n",
       "⎣q₂⎦"
      ]
     },
     "metadata": {},
     "output_type": "display_data"
    }
   ],
   "source": [
    "# https://en.wikipedia.org/wiki/Double_integrator\n",
    "q = sf.V3.symbolic(\"q\")\n",
    "display(q)"
   ]
  },
  {
   "cell_type": "code",
   "execution_count": 5,
   "metadata": {},
   "outputs": [
    {
     "data": {
      "text/latex": [
       "$\\displaystyle \\left[\\begin{matrix}q_{1}\\\\q_{2}\\end{matrix}\\right]$"
      ],
      "text/plain": [
       "⎡q₁⎤\n",
       "⎢  ⎥\n",
       "⎣q₂⎦"
      ]
     },
     "metadata": {},
     "output_type": "display_data"
    }
   ],
   "source": [
    "continuous_time_dynamics = sf.V2([q[1], q[2]])\n",
    "display(continuous_time_dynamics)"
   ]
  },
  {
   "cell_type": "code",
   "execution_count": 6,
   "metadata": {},
   "outputs": [],
   "source": [
    "state = sf.V2([q[0], q[1]])\n"
   ]
  },
  {
   "cell_type": "code",
   "execution_count": 7,
   "metadata": {},
   "outputs": [],
   "source": [
    "u = sf.V1(q[2])"
   ]
  },
  {
   "cell_type": "code",
   "execution_count": 8,
   "metadata": {},
   "outputs": [],
   "source": [
    "# def double_integrator_discrete_time_dynamics(\n",
    "#     x:sf.Vector2, u:sf.Vector1\n",
    "# ) -> sf.Vector2:\n",
    "#     A = continuous_time_dynamics.jacobian(x)\n",
    "#     B = continuous_time_dynamics.jacobian(u)\n",
    "#     qdot = sf.V2(A*x + B*u)\n",
    "#     return qdot"
   ]
  },
  {
   "cell_type": "code",
   "execution_count": 9,
   "metadata": {},
   "outputs": [],
   "source": [
    "\n",
    "# def rk4(x:sf.Vector2, u:sf.Vector1, dt:sf.Scalar) -> sf.Vector2: \n",
    "#     # vanilla RK4\n",
    "#     k1 = dt * double_integrator_discrete_time_dynamics(x, u)\n",
    "#     k2 = dt * double_integrator_discrete_time_dynamics(x + k1/2, u)\n",
    "#     k3 = dt * double_integrator_discrete_time_dynamics(x + k2/2, u)\n",
    "#     k4 = dt * double_integrator_discrete_time_dynamics(x + k3, u)\n",
    "#     xplus1 =  (x + (1/6)*(k1 + 2*k2 + 2*k3 + k4))\n",
    "#     return xplus1\n"
   ]
  },
  {
   "attachments": {},
   "cell_type": "markdown",
   "metadata": {},
   "source": [
    "Following is the get codegen the A and B dynamics by linearizing the Zdot"
   ]
  },
  {
   "cell_type": "code",
   "execution_count": 10,
   "metadata": {},
   "outputs": [],
   "source": [
    "inputs_linearized_matrices = Values(\n",
    "    state = sf.V2([q[0], q[1]]),\n",
    "    u = sf.V1(q[2]),\n",
    ")"
   ]
  },
  {
   "cell_type": "code",
   "execution_count": 11,
   "metadata": {},
   "outputs": [],
   "source": [
    "A = continuous_time_dynamics.jacobian(state)\n",
    "B = continuous_time_dynamics.jacobian(u)"
   ]
  },
  {
   "cell_type": "code",
   "execution_count": 12,
   "metadata": {},
   "outputs": [],
   "source": [
    "outputs_linearized_matrices = Values(\n",
    "    params = Values (\n",
    "        A = A,\n",
    "        B = B,\n",
    "    )\n",
    ")"
   ]
  },
  {
   "cell_type": "code",
   "execution_count": 13,
   "metadata": {},
   "outputs": [],
   "source": [
    "linearized_matrices_codegen = codegen.Codegen(\n",
    "    inputs=inputs_linearized_matrices,\n",
    "    outputs=outputs_linearized_matrices,\n",
    "    config=codegen.CppConfig(),\n",
    "    name=\"linearized_matrices\",\n",
    "    return_key=\"params\",\n",
    ")"
   ]
  },
  {
   "cell_type": "code",
   "execution_count": 14,
   "metadata": {},
   "outputs": [
    {
     "name": "stdout",
     "output_type": "stream",
     "text": [
      "Files generated in /tmp/sf_codegen_linearized_matrices_pmo7f0m6:\n",
      "\n",
      "  |- lcmtypes/linearized_matrices.lcm\n",
      "  |- cpp/symforce/sym/linearized_matrices.h\n"
     ]
    }
   ],
   "source": [
    "#call codegen\n",
    "linearized_matrices_data = linearized_matrices_codegen.generate_function()\n",
    "\n",
    "# Print what we generated\n",
    "print(\"Files generated in {}:\\n\".format(linearized_matrices_data.output_dir))\n",
    "for f in linearized_matrices_data.generated_files:\n",
    "    print(\"  |- {}\".format(os.path.relpath(f, linearized_matrices_data.output_dir)))"
   ]
  },
  {
   "attachments": {},
   "cell_type": "markdown",
   "metadata": {},
   "source": [
    "Following is to codegen discrete time dynamics"
   ]
  },
  {
   "cell_type": "code",
   "execution_count": 15,
   "metadata": {},
   "outputs": [],
   "source": [
    "inputs_discrete_time_dynamics = Values(\n",
    "    state = sf.V2([q[0], q[1]]),\n",
    "    u = sf.V1(q[2]),\n",
    "    # A = A,\n",
    "    # B = B,\n",
    ")"
   ]
  },
  {
   "cell_type": "code",
   "execution_count": 16,
   "metadata": {},
   "outputs": [],
   "source": [
    "outputs_discrete_time_dynamics = Values(\n",
    "    state_dot = sf.V2(A*state + B*u)\n",
    "    )"
   ]
  },
  {
   "cell_type": "code",
   "execution_count": 17,
   "metadata": {},
   "outputs": [],
   "source": [
    "discrete_time_dynamics_codegen = codegen.Codegen(\n",
    "    inputs=inputs_discrete_time_dynamics,\n",
    "    outputs=outputs_discrete_time_dynamics,\n",
    "    config=codegen.CppConfig(),\n",
    "    name=\"double_integrator_discrete_time_dynamics\",\n",
    "    return_key=\"state_dot\",\n",
    ")\n"
   ]
  },
  {
   "cell_type": "code",
   "execution_count": 18,
   "metadata": {},
   "outputs": [
    {
     "name": "stdout",
     "output_type": "stream",
     "text": [
      "Files generated in /tmp/sf_codegen_double_integrator_discrete_time_dynamics_dhzkj5f1:\n",
      "\n",
      "  |- cpp/symforce/sym/double_integrator_discrete_time_dynamics.h\n"
     ]
    }
   ],
   "source": [
    "discrete_time_dynamics_data = discrete_time_dynamics_codegen.generate_function()\n",
    "\n",
    "# Print what we generated\n",
    "print(\"Files generated in {}:\\n\".format(discrete_time_dynamics_data.output_dir))\n",
    "for f in discrete_time_dynamics_data.generated_files:\n",
    "    print(\"  |- {}\".format(os.path.relpath(f, discrete_time_dynamics_data.output_dir)))"
   ]
  },
  {
   "attachments": {},
   "cell_type": "markdown",
   "metadata": {},
   "source": [
    "Following is the code gen for a quadratic cost function:"
   ]
  },
  {
   "cell_type": "code",
   "execution_count": 24,
   "metadata": {},
   "outputs": [],
   "source": [
    "q_ref = sf.V3.symbolic(\"q_ref\")\n"
   ]
  },
  {
   "cell_type": "code",
   "execution_count": 28,
   "metadata": {},
   "outputs": [],
   "source": [
    "Q = sf.Matrix22.eye(),\n",
    "R = sf.Scalar(0.0001),\n",
    "# R = sf.V1(\"R\"),"
   ]
  },
  {
   "cell_type": "code",
   "execution_count": 31,
   "metadata": {},
   "outputs": [],
   "source": [
    "state_ref = sf.V2([q_ref[0], q_ref[1]])\n",
    "u_ref = sf.V1(q_ref[2])"
   ]
  },
  {
   "cell_type": "code",
   "execution_count": 32,
   "metadata": {},
   "outputs": [],
   "source": [
    "inputs_quad_cost = Values(\n",
    "    state = sf.V2([q[0], q[1]]).T,\n",
    "    u = sf.V1(q[2]),\n",
    "    params = Values(\n",
    "        Q = Q,\n",
    "        R = R,\n",
    "        state_ref = state_ref,\n",
    "        u_ref = u_ref,\n",
    "    )\n",
    ")"
   ]
  },
  {
   "cell_type": "code",
   "execution_count": 42,
   "metadata": {},
   "outputs": [
    {
     "ename": "TypeError",
     "evalue": "can't multiply sequence by non-int of type 'symengine.lib.symengine_wrapper.MutableDenseMatrix'",
     "output_type": "error",
     "traceback": [
      "\u001b[0;31m---------------------------------------------------------------------------\u001b[0m",
      "\u001b[0;31mTypeError\u001b[0m                                 Traceback (most recent call last)",
      "Cell \u001b[0;32mIn[42], line 4\u001b[0m\n\u001b[1;32m      1\u001b[0m Q \u001b[39m=\u001b[39m sf\u001b[39m.\u001b[39mM22\u001b[39m.\u001b[39msymbolic(\u001b[39m\"\u001b[39m\u001b[39mQ\u001b[39m\u001b[39m\"\u001b[39m),\n\u001b[1;32m      2\u001b[0m R \u001b[39m=\u001b[39m sf\u001b[39m.\u001b[39mV1\u001b[39m.\u001b[39msymbolic(\u001b[39m\"\u001b[39m\u001b[39mR\u001b[39m\u001b[39m\"\u001b[39m),\n\u001b[0;32m----> 4\u001b[0m temp \u001b[39m=\u001b[39m (state \u001b[39m-\u001b[39;49m state_ref)\u001b[39m.\u001b[39;49mT \u001b[39m*\u001b[39;49m Q \u001b[39m*\u001b[39m (state \u001b[39m-\u001b[39m state_ref)\n",
      "File \u001b[0;32m~/symForce/env/lib/python3.10/site-packages/symforce/geo/matrix.py:700\u001b[0m, in \u001b[0;36mMatrix.__mul__\u001b[0;34m(self, right)\u001b[0m\n\u001b[1;32m    698\u001b[0m     \u001b[39mreturn\u001b[39;00m Matrix(\u001b[39mself\u001b[39m\u001b[39m.\u001b[39mmat \u001b[39m*\u001b[39m right\u001b[39m.\u001b[39mmat)\n\u001b[1;32m    699\u001b[0m \u001b[39melse\u001b[39;00m:\n\u001b[0;32m--> 700\u001b[0m     \u001b[39mreturn\u001b[39;00m Matrix(\u001b[39mself\u001b[39;49m\u001b[39m.\u001b[39;49mmat \u001b[39m*\u001b[39;49m right)\n",
      "\u001b[0;31mTypeError\u001b[0m: can't multiply sequence by non-int of type 'symengine.lib.symengine_wrapper.MutableDenseMatrix'"
     ]
    }
   ],
   "source": [
    "Q = sf.M22.symbolic(\"Q\"),\n",
    "R = sf.V1.symbolic(\"R\"),\n",
    "\n",
    "temp = 0.5 * (state - state_ref).T * Q * (state - state_ref)\n",
    "\n",
    "\n",
    "\n",
    "\n"
   ]
  },
  {
   "cell_type": "code",
   "execution_count": 50,
   "metadata": {},
   "outputs": [
    {
     "ename": "AssertionError",
     "evalue": "Gave args (([Q0_0, Q0_1]\n[Q1_0, Q1_1]\n,),) for <class 'symforce.geo.matrix.Matrix22'>",
     "output_type": "error",
     "traceback": [
      "\u001b[0;31m---------------------------------------------------------------------------\u001b[0m",
      "\u001b[0;31mAssertionError\u001b[0m                            Traceback (most recent call last)",
      "Cell \u001b[0;32mIn[50], line 1\u001b[0m\n\u001b[0;32m----> 1\u001b[0m display((state \u001b[39m-\u001b[39m state_ref)\u001b[39m.\u001b[39mT \u001b[39m*\u001b[39m sf\u001b[39m.\u001b[39;49mM22(Q))\n",
      "File \u001b[0;32m~/symForce/env/lib/python3.10/site-packages/symforce/geo/matrix.py:107\u001b[0m, in \u001b[0;36mMatrix.__new__\u001b[0;34m(cls, *args, **kwargs)\u001b[0m\n\u001b[1;32m    104\u001b[0m \u001b[39m# 1D array - if fixed size this must match data length. If not, assume column vec.\u001b[39;00m\n\u001b[1;32m    105\u001b[0m \u001b[39melse\u001b[39;00m:\n\u001b[1;32m    106\u001b[0m     \u001b[39mif\u001b[39;00m \u001b[39mcls\u001b[39m\u001b[39m.\u001b[39m_is_fixed_size():\n\u001b[0;32m--> 107\u001b[0m         \u001b[39massert\u001b[39;00m \u001b[39mlen\u001b[39m(array) \u001b[39m==\u001b[39m \u001b[39mcls\u001b[39m\u001b[39m.\u001b[39mstorage_dim(), \u001b[39mf\u001b[39m\u001b[39m\"\u001b[39m\u001b[39mGave args \u001b[39m\u001b[39m{\u001b[39;00margs\u001b[39m}\u001b[39;00m\u001b[39m for \u001b[39m\u001b[39m{\u001b[39;00m\u001b[39mcls\u001b[39m\u001b[39m}\u001b[39;00m\u001b[39m\"\u001b[39m\n\u001b[1;32m    108\u001b[0m         rows, cols \u001b[39m=\u001b[39m \u001b[39mcls\u001b[39m\u001b[39m.\u001b[39mSHAPE\n\u001b[1;32m    109\u001b[0m     \u001b[39melse\u001b[39;00m:\n\u001b[1;32m    110\u001b[0m         \u001b[39m# Only set the second dimension to 1 if the array is nonempty\u001b[39;00m\n",
      "\u001b[0;31mAssertionError\u001b[0m: Gave args (([Q0_0, Q0_1]\n[Q1_0, Q1_1]\n,),) for <class 'symforce.geo.matrix.Matrix22'>"
     ]
    }
   ],
   "source": [
    "display((state - state_ref).T * sf.M22(Q))"
   ]
  },
  {
   "cell_type": "code",
   "execution_count": 39,
   "metadata": {},
   "outputs": [
    {
     "ename": "TypeError",
     "evalue": "can't multiply sequence by non-int of type 'symengine.lib.symengine_wrapper.MutableDenseMatrix'",
     "output_type": "error",
     "traceback": [
      "\u001b[0;31m---------------------------------------------------------------------------\u001b[0m",
      "\u001b[0;31mTypeError\u001b[0m                                 Traceback (most recent call last)",
      "Cell \u001b[0;32mIn[39], line 1\u001b[0m\n\u001b[0;32m----> 1\u001b[0m temp2 \u001b[39m=\u001b[39m  \u001b[39m0.5\u001b[39;49m \u001b[39m*\u001b[39;49m (u \u001b[39m-\u001b[39;49m u_ref)\u001b[39m.\u001b[39;49mT \u001b[39m*\u001b[39;49m R \u001b[39m*\u001b[39m (u \u001b[39m-\u001b[39m u_ref)\n",
      "File \u001b[0;32m~/symForce/env/lib/python3.10/site-packages/symforce/geo/matrix.py:700\u001b[0m, in \u001b[0;36mMatrix.__mul__\u001b[0;34m(self, right)\u001b[0m\n\u001b[1;32m    698\u001b[0m     \u001b[39mreturn\u001b[39;00m Matrix(\u001b[39mself\u001b[39m\u001b[39m.\u001b[39mmat \u001b[39m*\u001b[39m right\u001b[39m.\u001b[39mmat)\n\u001b[1;32m    699\u001b[0m \u001b[39melse\u001b[39;00m:\n\u001b[0;32m--> 700\u001b[0m     \u001b[39mreturn\u001b[39;00m Matrix(\u001b[39mself\u001b[39;49m\u001b[39m.\u001b[39;49mmat \u001b[39m*\u001b[39;49m right)\n",
      "\u001b[0;31mTypeError\u001b[0m: can't multiply sequence by non-int of type 'symengine.lib.symengine_wrapper.MutableDenseMatrix'"
     ]
    }
   ],
   "source": [
    "temp2 =  0.5 * (u - u_ref).T * R * (u - u_ref)"
   ]
  },
  {
   "cell_type": "code",
   "execution_count": 33,
   "metadata": {},
   "outputs": [
    {
     "ename": "TypeError",
     "evalue": "can't multiply sequence by non-int of type 'symengine.lib.symengine_wrapper.MutableDenseMatrix'",
     "output_type": "error",
     "traceback": [
      "\u001b[0;31m---------------------------------------------------------------------------\u001b[0m",
      "\u001b[0;31mTypeError\u001b[0m                                 Traceback (most recent call last)",
      "Cell \u001b[0;32mIn[33], line 2\u001b[0m\n\u001b[1;32m      1\u001b[0m outputs_quad_cost \u001b[39m=\u001b[39m Values(\n\u001b[0;32m----> 2\u001b[0m     cost \u001b[39m=\u001b[39m (\u001b[39m0.5\u001b[39;49m \u001b[39m*\u001b[39;49m (state \u001b[39m-\u001b[39;49m state_ref)\u001b[39m.\u001b[39;49mT \u001b[39m*\u001b[39;49m Q \u001b[39m*\u001b[39m (state \u001b[39m-\u001b[39m state_ref) \u001b[39m+\u001b[39m \u001b[39m0.5\u001b[39m \u001b[39m*\u001b[39m (u \u001b[39m-\u001b[39m u_ref)\u001b[39m.\u001b[39mT \u001b[39m*\u001b[39m R \u001b[39m*\u001b[39m (u \u001b[39m-\u001b[39m u_ref))\n\u001b[1;32m      3\u001b[0m     )\n",
      "File \u001b[0;32m~/symForce/env/lib/python3.10/site-packages/symforce/geo/matrix.py:700\u001b[0m, in \u001b[0;36mMatrix.__mul__\u001b[0;34m(self, right)\u001b[0m\n\u001b[1;32m    698\u001b[0m     \u001b[39mreturn\u001b[39;00m Matrix(\u001b[39mself\u001b[39m\u001b[39m.\u001b[39mmat \u001b[39m*\u001b[39m right\u001b[39m.\u001b[39mmat)\n\u001b[1;32m    699\u001b[0m \u001b[39melse\u001b[39;00m:\n\u001b[0;32m--> 700\u001b[0m     \u001b[39mreturn\u001b[39;00m Matrix(\u001b[39mself\u001b[39;49m\u001b[39m.\u001b[39;49mmat \u001b[39m*\u001b[39;49m right)\n",
      "\u001b[0;31mTypeError\u001b[0m: can't multiply sequence by non-int of type 'symengine.lib.symengine_wrapper.MutableDenseMatrix'"
     ]
    }
   ],
   "source": [
    "outputs_quad_cost = Values(\n",
    "    cost = (0.5 * (state - state_ref).T * Q * (state - state_ref) + 0.5 * (u - u_ref).T * R * (u - u_ref))\n",
    "    )"
   ]
  },
  {
   "cell_type": "code",
   "execution_count": 21,
   "metadata": {},
   "outputs": [
    {
     "ename": "NameError",
     "evalue": "name 'inputs_quad_cost' is not defined",
     "output_type": "error",
     "traceback": [
      "\u001b[0;31m---------------------------------------------------------------------------\u001b[0m",
      "\u001b[0;31mNameError\u001b[0m                                 Traceback (most recent call last)",
      "Cell \u001b[0;32mIn[21], line 1\u001b[0m\n\u001b[0;32m----> 1\u001b[0m display(inputs_quad_cost)\n\u001b[1;32m      2\u001b[0m display(outputs_quad_cost)\n\u001b[1;32m      3\u001b[0m display(Q)\n",
      "\u001b[0;31mNameError\u001b[0m: name 'inputs_quad_cost' is not defined"
     ]
    }
   ],
   "source": [
    "display(inputs_quad_cost)\n",
    "display(outputs_quad_cost)\n",
    "display(Q)\n",
    "display(R)"
   ]
  },
  {
   "cell_type": "code",
   "execution_count": null,
   "metadata": {},
   "outputs": [],
   "source": [
    "quad_cost_codegen = codegen.Codegen(\n",
    "    inputs=inputs_quad_cost,\n",
    "    outputs=outputs_quad_cost,\n",
    "    config=codegen.CppConfig(),\n",
    "    name=\"quadratic_cost\",\n",
    "    return_key=\"cost\",\n",
    ")\n"
   ]
  },
  {
   "cell_type": "code",
   "execution_count": null,
   "metadata": {},
   "outputs": [],
   "source": [
    "quad_cost_data = quad_cost_codegen.generate_function()\n",
    "\n",
    "# Print what we generated\n",
    "print(\"Files generated in {}:\\n\".format(quad_cost_data.output_dir))\n",
    "for f in quad_cost_data.generated_files:\n",
    "    print(\"  |- {}\".format(os.path.relpath(f, quad_cost_data.output_dir)))"
   ]
  }
 ],
 "metadata": {
  "kernelspec": {
   "display_name": "env",
   "language": "python",
   "name": "python3"
  },
  "language_info": {
   "codemirror_mode": {
    "name": "ipython",
    "version": 3
   },
   "file_extension": ".py",
   "mimetype": "text/x-python",
   "name": "python",
   "nbconvert_exporter": "python",
   "pygments_lexer": "ipython3",
   "version": "3.10.6"
  },
  "orig_nbformat": 4
 },
 "nbformat": 4,
 "nbformat_minor": 2
}
