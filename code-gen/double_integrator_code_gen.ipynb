{
 "cells": [
  {
   "cell_type": "code",
   "execution_count": 1,
   "metadata": {},
   "outputs": [],
   "source": [
    "# Setup\n",
    "import numpy as np\n",
    "import os\n",
    "import symforce\n",
    "from symforce import typing as T\n",
    "\n",
    "symforce.set_symbolic_api(\"symengine\")\n",
    "symforce.set_log_level(\"warning\")"
   ]
  },
  {
   "cell_type": "code",
   "execution_count": 2,
   "metadata": {},
   "outputs": [],
   "source": [
    "symforce.set_epsilon_to_symbol()"
   ]
  },
  {
   "cell_type": "code",
   "execution_count": 3,
   "metadata": {},
   "outputs": [],
   "source": [
    "from symforce import codegen\n",
    "from symforce.codegen import codegen_util\n",
    "from symforce import ops\n",
    "import symforce.symbolic as sf\n",
    "from symforce.values import Values\n",
    "from symforce.notebook_util import display, display_code, display_code_file"
   ]
  },
  {
   "cell_type": "code",
   "execution_count": 4,
   "metadata": {},
   "outputs": [
    {
     "data": {
      "text/latex": [
       "$\\displaystyle \\left[\\begin{matrix}q_{0}\\\\q_{1}\\\\q_{2}\\end{matrix}\\right]$"
      ],
      "text/plain": [
       "⎡q₀⎤\n",
       "⎢  ⎥\n",
       "⎢q₁⎥\n",
       "⎢  ⎥\n",
       "⎣q₂⎦"
      ]
     },
     "metadata": {},
     "output_type": "display_data"
    }
   ],
   "source": [
    "# https://en.wikipedia.org/wiki/Double_integrator\n",
    "q = sf.V3.symbolic(\"q\")\n",
    "display(q)"
   ]
  },
  {
   "cell_type": "code",
   "execution_count": 5,
   "metadata": {},
   "outputs": [
    {
     "data": {
      "text/latex": [
       "$\\displaystyle \\left[\\begin{matrix}q_{1}\\\\q_{2}\\end{matrix}\\right]$"
      ],
      "text/plain": [
       "⎡q₁⎤\n",
       "⎢  ⎥\n",
       "⎣q₂⎦"
      ]
     },
     "metadata": {},
     "output_type": "display_data"
    }
   ],
   "source": [
    "continuous_time_dynamics = sf.V2([q[1], q[2]])\n",
    "display(continuous_time_dynamics)"
   ]
  },
  {
   "cell_type": "code",
   "execution_count": 6,
   "metadata": {},
   "outputs": [],
   "source": [
    "state = sf.V2([q[0], q[1]])"
   ]
  },
  {
   "cell_type": "code",
   "execution_count": 7,
   "metadata": {},
   "outputs": [],
   "source": [
    "u = sf.V1(q[2])"
   ]
  },
  {
   "cell_type": "code",
   "execution_count": 8,
   "metadata": {},
   "outputs": [],
   "source": [
    "# def double_integrator_discrete_time_dynamics(\n",
    "#     x:sf.Vector2, u:sf.Vector1\n",
    "# ) -> sf.Vector2:\n",
    "#     A = continuous_time_dynamics.jacobian(x)\n",
    "#     B = continuous_time_dynamics.jacobian(u)\n",
    "#     qdot = sf.V2(A*x + B*u)\n",
    "#     return qdot"
   ]
  },
  {
   "cell_type": "code",
   "execution_count": 9,
   "metadata": {},
   "outputs": [],
   "source": [
    "\n",
    "# def rk4(x:sf.Vector2, u:sf.Vector1, dt:sf.Scalar) -> sf.Vector2: \n",
    "#     # vanilla RK4\n",
    "#     k1 = dt * double_integrator_discrete_time_dynamics(x, u)\n",
    "#     k2 = dt * double_integrator_discrete_time_dynamics(x + k1/2, u)\n",
    "#     k3 = dt * double_integrator_discrete_time_dynamics(x + k2/2, u)\n",
    "#     k4 = dt * double_integrator_discrete_time_dynamics(x + k3, u)\n",
    "#     xplus1 =  (x + (1/6)*(k1 + 2*k2 + 2*k3 + k4))\n",
    "#     return xplus1\n"
   ]
  },
  {
   "cell_type": "code",
   "execution_count": 10,
   "metadata": {},
   "outputs": [],
   "source": [
    "inputs = Values(\n",
    "    state = sf.V2([q[0], q[1]]),\n",
    "    u = sf.V1(q[2]),\n",
    ")"
   ]
  },
  {
   "cell_type": "code",
   "execution_count": 11,
   "metadata": {},
   "outputs": [],
   "source": [
    "# A = continuous_time_dynamics.jacobian(state)\n",
    "# B = continuous_time_dynamics.jacobian(u)"
   ]
  },
  {
   "cell_type": "code",
   "execution_count": 12,
   "metadata": {},
   "outputs": [],
   "source": [
    "outputs = Values(\n",
    "    qdot = sf.V2(continuous_time_dynamics.jacobian(state)*state + continuous_time_dynamics.jacobian(u)*u)\n",
    "    )"
   ]
  },
  {
   "cell_type": "code",
   "execution_count": 14,
   "metadata": {},
   "outputs": [
    {
     "name": "stdout",
     "output_type": "stream",
     "text": [
      "Files generated in /tmp/sf_codegen_double_integrator_discrete_time_dynamics_t_c84j20:\n",
      "\n",
      "  |- cpp/symforce/sym/double_integrator_discrete_time_dynamics.h\n"
     ]
    }
   ],
   "source": [
    "discrete_time_dynamics_codegen = codegen.Codegen(\n",
    "    inputs=inputs,\n",
    "    outputs=outputs,\n",
    "    config=codegen.CppConfig(),\n",
    "    name=\"double_integrator_discrete_time_dynamics\",\n",
    "    return_key=\"qdot\",\n",
    ")\n",
    "discrete_time_dynamics_data = discrete_time_dynamics_codegen.generate_function()\n",
    "\n",
    "# Print what we generated\n",
    "print(\"Files generated in {}:\\n\".format(discrete_time_dynamics_data.output_dir))\n",
    "for f in discrete_time_dynamics_data.generated_files:\n",
    "    print(\"  |- {}\".format(os.path.relpath(f, discrete_time_dynamics_data.output_dir)))"
   ]
  },
  {
   "cell_type": "code",
   "execution_count": null,
   "metadata": {},
   "outputs": [],
   "source": []
  }
 ],
 "metadata": {
  "kernelspec": {
   "display_name": "env",
   "language": "python",
   "name": "python3"
  },
  "language_info": {
   "codemirror_mode": {
    "name": "ipython",
    "version": 3
   },
   "file_extension": ".py",
   "mimetype": "text/x-python",
   "name": "python",
   "nbconvert_exporter": "python",
   "pygments_lexer": "ipython3",
   "version": "3.10.6"
  },
  "orig_nbformat": 4
 },
 "nbformat": 4,
 "nbformat_minor": 2
}
